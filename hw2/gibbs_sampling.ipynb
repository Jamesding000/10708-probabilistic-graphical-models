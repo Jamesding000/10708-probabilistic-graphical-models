{
 "cells": [
  {
   "cell_type": "code",
   "execution_count": 1,
   "id": "1b798f8b",
   "metadata": {},
   "outputs": [],
   "source": [
    "from utils import Ising, conditional, log_unnormalized_p\n",
    "from plot_utils import *\n",
    "from tqdm.auto import tqdm"
   ]
  },
  {
   "cell_type": "code",
   "execution_count": null,
   "id": "ee2dd4da",
   "metadata": {},
   "outputs": [],
   "source": [
    "def gibbs_sampling(model, state, n_samples):\n",
    "    n = model.dim\n",
    "    model.state = state\n",
    "    \n",
    "    samples = []\n",
    "    states = np.array([[i, j] for i in range(n) for j in range(n)])\n",
    "    for t in range(n_samples):\n",
    "        np.random.shuffle(states)\n",
    "        for i, j in states:\n",
    "            p_Xij = conditional(model.state, i, j, model.Js, model.Jst)\n",
    "            model.state[i][j] = np.random.binomial(1, p_Xij) * 2 - 1  # 0 -> -1, 1 -> 1\n",
    "        samples.append(model.state.copy())\n",
    "\n",
    "    return samples\n"
   ]
  },
  {
   "cell_type": "code",
   "execution_count": null,
   "id": "2882c339",
   "metadata": {},
   "outputs": [
    {
     "data": {
      "application/vnd.jupyter.widget-view+json": {
       "model_id": "4d103f6fdddc4b999b42990dd279a8f4",
       "version_major": 2,
       "version_minor": 0
      },
      "text/plain": [
       "  0%|          | 0/4 [00:00<?, ?it/s]"
      ]
     },
     "metadata": {},
     "output_type": "display_data"
    },
    {
     "data": {
      "text/plain": [
       "<Figure size 640x480 with 0 Axes>"
      ]
     },
     "metadata": {},
     "output_type": "display_data"
    }
   ],
   "source": [
    "dim = 100\n",
    "Js = 0\n",
    "Jsts = [0.25, 0.5, 1, 10]\n",
    "output_dir = \"plots\"\n",
    "save_snapshot_every = 100\n",
    "n_samples = 400\n",
    "\n",
    "filenames = []\n",
    "if output_dir:\n",
    "    if not os.path.exists(output_dir):\n",
    "        os.makedirs(output_dir, exist_ok=True)\n",
    "\n",
    "for Jst in tqdm(Jsts):\n",
    "    samples = []\n",
    "    model = Ising(dim, Js, Jst)\n",
    "\n",
    "    model.init_state()\n",
    "    samples.append(model.state.copy())\n",
    "    samples.extend(gibbs_sampling(model, model.state, n_samples))\n",
    "\n",
    "    for i in range(0, len(samples), save_snapshot_every):\n",
    "        sample = samples[i]\n",
    "        title = f\"Dim={model.dim}, Js={model.Js}, Jst={model.Jst}, Time={i}\"\n",
    "        file_path = f\"{output_dir}/{title.replace(', ', '_')}.png\"\n",
    "        visualize_state(sample, title, file_path)\n",
    "        filenames.append(file_path)"
   ]
  },
  {
   "cell_type": "code",
   "execution_count": null,
   "id": "80aba008",
   "metadata": {},
   "outputs": [
    {
     "data": {
      "text/plain": [
       "<Figure size 640x480 with 0 Axes>"
      ]
     },
     "metadata": {},
     "output_type": "display_data"
    }
   ],
   "source": [
    "generate_gif(samples, \"gibbs_sampling.gif\")"
   ]
  },
  {
   "cell_type": "code",
   "execution_count": 6,
   "id": "5a922983",
   "metadata": {},
   "outputs": [],
   "source": [
    "merge_images(filenames, 4, 5, \"gibbs_sampling.png\")"
   ]
  },
  {
   "cell_type": "code",
   "execution_count": null,
   "id": "281f4161",
   "metadata": {},
   "outputs": [],
   "source": []
  }
 ],
 "metadata": {
  "kernelspec": {
   "display_name": "base",
   "language": "python",
   "name": "python3"
  },
  "language_info": {
   "codemirror_mode": {
    "name": "ipython",
    "version": 3
   },
   "file_extension": ".py",
   "mimetype": "text/x-python",
   "name": "python",
   "nbconvert_exporter": "python",
   "pygments_lexer": "ipython3",
   "version": "3.10.9"
  }
 },
 "nbformat": 4,
 "nbformat_minor": 5
}
