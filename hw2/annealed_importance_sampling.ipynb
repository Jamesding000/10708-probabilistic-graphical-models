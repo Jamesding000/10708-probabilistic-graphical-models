{
 "cells": [
  {
   "cell_type": "code",
   "execution_count": 3,
   "id": "828edf2a",
   "metadata": {},
   "outputs": [],
   "source": [
    "from utils import Ising, conditional, log_unnormalized_p\n",
    "from plot_utils import *\n",
    "from tqdm.auto import tqdm"
   ]
  },
  {
   "cell_type": "code",
   "execution_count": 4,
   "id": "b52213d5",
   "metadata": {},
   "outputs": [],
   "source": [
    "def gibbs_sampling(model, state, n_samples):\n",
    "    n = model.dim\n",
    "    model.state = state\n",
    "    \n",
    "    samples = []\n",
    "    states = np.array([[i, j] for i in range(n) for j in range(n)])\n",
    "    for t in range(n_samples):\n",
    "        np.random.shuffle(states)\n",
    "        for i, j in states:\n",
    "            p_Xij = conditional(model.state, i, j, model.Js, model.Jst)\n",
    "            model.state[i][j] = np.random.binomial(1, p_Xij) * 2 - 1  # 0 -> -1, 1 -> 1\n",
    "        samples.append(model.state.copy())\n",
    "\n",
    "    return samples\n"
   ]
  },
  {
   "cell_type": "code",
   "execution_count": 36,
   "id": "c6d80df3",
   "metadata": {},
   "outputs": [],
   "source": [
    "def annealed_importance_sampling(p_0, p_G, betas, n_samples, n_steps, return_all_temps=False):\n",
    "    \"\"\"\n",
    "    Annealed Importance Sampling\n",
    "    \n",
    "    Args:\n",
    "        return_all_temps: If True, return estimates for all temperatures\n",
    "    \"\"\"\n",
    "    assert (len(betas) == n_steps + 1)\n",
    "    \n",
    "    log_Z_estimates = []\n",
    "    log_Z_all_temps = [] if return_all_temps else None\n",
    "    \n",
    "    target_Js = p_G.Js\n",
    "    target_Jst = p_G.Jst\n",
    "    dim = p_G.dim\n",
    "    \n",
    "    # for all x, p_0(x) = exp(0) = 1, log(Z_0) = log(2^(dim^2)) = dim^2 * log(2)\n",
    "    log_Z_0 = dim ** 2 * np.log(2)\n",
    "    \n",
    "    for i in tqdm(range(n_samples)):\n",
    "        sum_log_ratio = log_Z_0\n",
    "        temp_estimates = [log_Z_0] if return_all_temps else None\n",
    "        \n",
    "        for j in range(n_steps):\n",
    "            if j == 0:\n",
    "                # Sample x_1 from p_0\n",
    "                p_0.init_state()\n",
    "                x_j = p_0.state.copy()\n",
    "            else:\n",
    "                # Sample x_{j+1} from p_beta_j given x_j using Gibbs sampling\n",
    "                p_beta_j = Ising(dim, betas[j] * target_Js, betas[j] * target_Jst)\n",
    "                x_j = gibbs_sampling(p_beta_j, x_j, 1)[0]\n",
    "                \n",
    "            # Compute log ratio: log(p̂_{j+1}(x_{j+1}) / p̂_j(x_{j+1}))\n",
    "            log_p_j = log_unnormalized_p(x_j, betas[j] * target_Js, betas[j] * target_Jst)\n",
    "            log_p_j_plus_1 = log_unnormalized_p(x_j, betas[j+1] * target_Js, betas[j+1] * target_Jst)\n",
    "            \n",
    "            sum_log_ratio += (log_p_j_plus_1 - log_p_j)\n",
    "            \n",
    "            if return_all_temps:\n",
    "                temp_estimates.append(sum_log_ratio)\n",
    "            \n",
    "        log_Z_estimates.append(sum_log_ratio)\n",
    "        if return_all_temps:\n",
    "            log_Z_all_temps.append(temp_estimates)\n",
    "    \n",
    "    if return_all_temps:\n",
    "        # Average across samples for each temperature\n",
    "        log_Z_all_temps = np.array(log_Z_all_temps)  # Shape: (n_samples, n_steps+1)\n",
    "        log_Z_means = np.mean(log_Z_all_temps, axis=0)\n",
    "        log_Z_stds = np.std(log_Z_all_temps, axis=0, ddof=1)\n",
    "        return log_Z_means, log_Z_stds\n",
    "    else:\n",
    "        return np.mean(log_Z_estimates), np.std(log_Z_estimates, ddof=1)"
   ]
  },
  {
   "cell_type": "code",
   "execution_count": 30,
   "id": "e5473a03",
   "metadata": {},
   "outputs": [],
   "source": [
    "def importance_sampling(p_0, p_G, n_samples):\n",
    "    \"\"\"\n",
    "    Standard Importance Sampling to estimate log(Z_G)\n",
    "    \"\"\"\n",
    "    dim = p_G.dim\n",
    "    log_Z_0 = dim ** 2 * np.log(2)  # Z_0 = 2^(dim^2)\n",
    "    \n",
    "    log_weights = []\n",
    "    for i in tqdm(range(n_samples)):\n",
    "        p_0.init_state()\n",
    "        x = p_0.state.copy()\n",
    "        log_weights.append(log_unnormalized_p(x, p_G.Js, p_G.Jst))\n",
    "    \n",
    "    # log(Z_G) = log(Z_0 * mean(exp(log_weights)))\n",
    "    log_weights = np.array(log_weights)\n",
    "    max_lw = np.max(log_weights)\n",
    "    weights = np.exp(log_weights - max_lw)\n",
    "    \n",
    "    mean_weight = np.mean(weights)\n",
    "    log_Z_G = log_Z_0 + max_lw + np.log(mean_weight)\n",
    "    \n",
    "    # Standard error of the estimate\n",
    "    std_weight = np.std(weights, ddof=1) / np.sqrt(n_samples)\n",
    "    log_Z_G_std = std_weight / mean_weight  # Relative error in log space\n",
    "    \n",
    "    return log_Z_G, log_Z_G_std"
   ]
  },
  {
   "cell_type": "code",
   "execution_count": null,
   "id": "97f11873",
   "metadata": {},
   "outputs": [
    {
     "data": {
      "application/vnd.jupyter.widget-view+json": {
       "model_id": "aa3237a8421346be9d7f64d29bf588e8",
       "version_major": 2,
       "version_minor": 0
      },
      "text/plain": [
       "  0%|          | 0/1000 [00:00<?, ?it/s]"
      ]
     },
     "metadata": {},
     "output_type": "display_data"
    },
    {
     "data": {
      "text/plain": [
       "(12.801476625039486, 0.14735476348704288)"
      ]
     },
     "execution_count": 26,
     "metadata": {},
     "output_type": "execute_result"
    }
   ],
   "source": [
    "# sanity check\n",
    "dim = 3\n",
    "\n",
    "target_Js = 0\n",
    "target_Jst = 1\n",
    "\n",
    "K = 1000\n",
    "betas = np.linspace(0, 1, K+1)\n",
    "M_ais = 1000\n",
    "M_is = 500000\n",
    "\n",
    "p_0 = Ising(dim, 0, 0)\n",
    "p_G = Ising(dim, target_Js, target_Jst)\n",
    "\n",
    "print(f\"Running AIS with M={M_ais} samples, K={K} temperatures...\")\n",
    "ais_mean, ais_std = annealed_importance_sampling(p_0, p_G, betas, M_ais, K)\n",
    "print(f\"AIS - Mean: {ais_mean:.6f}, Std: {ais_std:.6f}\")"
   ]
  },
  {
   "cell_type": "code",
   "execution_count": 33,
   "id": "4f36c7c2",
   "metadata": {},
   "outputs": [
    {
     "name": "stdout",
     "output_type": "stream",
     "text": [
      "\n",
      "Running IS with 500000 samples...\n"
     ]
    },
    {
     "data": {
      "application/vnd.jupyter.widget-view+json": {
       "model_id": "4f84ae2ee24a432eb14e864c08ef2eff",
       "version_major": 2,
       "version_minor": 0
      },
      "text/plain": [
       "  0%|          | 0/500000 [00:00<?, ?it/s]"
      ]
     },
     "metadata": {},
     "output_type": "display_data"
    },
    {
     "name": "stdout",
     "output_type": "stream",
     "text": [
      "IS  - Mean: 118.390288, Std: 0.828338\n"
     ]
    }
   ],
   "source": [
    "print(f\"\\nRunning IS with {M_is} samples...\")\n",
    "is_mean, is_std = importance_sampling(p_0, p_G, M_is)\n",
    "print(f\"IS  - Mean: {is_mean:.6f}, Std: {is_std:.6f}\")"
   ]
  },
  {
   "cell_type": "code",
   "execution_count": null,
   "id": "946f6fe5",
   "metadata": {},
   "outputs": [
    {
     "data": {
      "application/vnd.jupyter.widget-view+json": {
       "model_id": "c5abfeb410b84bfe95323cdebd05c5f7",
       "version_major": 2,
       "version_minor": 0
      },
      "text/plain": [
       "  0%|          | 0/1000 [00:00<?, ?it/s]"
      ]
     },
     "metadata": {},
     "output_type": "display_data"
    },
    {
     "data": {
      "text/plain": [
       "(180.17941605599447, 1.379343124915689)"
      ]
     },
     "execution_count": 28,
     "metadata": {},
     "output_type": "execute_result"
    }
   ],
   "source": [
    "dim = 10\n",
    "\n",
    "target_Js = 0\n",
    "target_Jst = 1\n",
    "\n",
    "K = 1000\n",
    "betas = np.linspace(0, 1, K+1)\n",
    "M_ais = 1000\n",
    "M_is = 500000\n",
    "\n",
    "p_0 = Ising(dim, 0, 0)\n",
    "p_G = Ising(dim, target_Js, target_Jst)\n",
    "\n",
    "print(f\"Running AIS with M={M_ais} samples, K={K} temperatures...\")\n",
    "ais_mean, ais_std = annealed_importance_sampling(p_0, p_G, betas, M_ais, K)\n",
    "print(f\"AIS - Mean: {ais_mean:.6f}, Std: {ais_std:.6f}\")"
   ]
  },
  {
   "cell_type": "code",
   "execution_count": 37,
   "id": "b832118b",
   "metadata": {},
   "outputs": [
    {
     "name": "stdout",
     "output_type": "stream",
     "text": [
      "\n",
      "Running IS with 500000 samples...\n"
     ]
    },
    {
     "data": {
      "application/vnd.jupyter.widget-view+json": {
       "model_id": "c31e8afb9a344c22ac935504d2af05b8",
       "version_major": 2,
       "version_minor": 0
      },
      "text/plain": [
       "  0%|          | 0/500000 [00:00<?, ?it/s]"
      ]
     },
     "metadata": {},
     "output_type": "display_data"
    },
    {
     "name": "stdout",
     "output_type": "stream",
     "text": [
      "IS  - Mean: 130.192741, Std: 0.999613\n"
     ]
    }
   ],
   "source": [
    "print(f\"\\nRunning IS with {M_is} samples...\")\n",
    "is_mean, is_std = importance_sampling(p_0, p_G, M_is)\n",
    "print(f\"IS  - Mean: {is_mean:.6f}, Std: {is_std:.6f}\")"
   ]
  },
  {
   "cell_type": "code",
   "execution_count": null,
   "id": "d0286a8e",
   "metadata": {},
   "outputs": [
    {
     "name": "stdout",
     "output_type": "stream",
     "text": [
      "\n",
      "3. Comparison:\n"
     ]
    },
    {
     "ename": "NameError",
     "evalue": "name 'ais_mean' is not defined",
     "output_type": "error",
     "traceback": [
      "\u001b[0;31m---------------------------------------------------------------------------\u001b[0m",
      "\u001b[0;31mNameError\u001b[0m                                 Traceback (most recent call last)",
      "Cell \u001b[0;32mIn[34], line 2\u001b[0m\n\u001b[1;32m      1\u001b[0m \u001b[38;5;28mprint\u001b[39m(\u001b[38;5;124mf\u001b[39m\u001b[38;5;124m\"\u001b[39m\u001b[38;5;130;01m\\n\u001b[39;00m\u001b[38;5;124m3. Comparison:\u001b[39m\u001b[38;5;124m\"\u001b[39m)\n\u001b[0;32m----> 2\u001b[0m \u001b[38;5;28mprint\u001b[39m(\u001b[38;5;124mf\u001b[39m\u001b[38;5;124m\"\u001b[39m\u001b[38;5;124m   Difference in means: \u001b[39m\u001b[38;5;132;01m{\u001b[39;00m\u001b[38;5;28mabs\u001b[39m(\u001b[43mais_mean\u001b[49m\u001b[38;5;250m \u001b[39m\u001b[38;5;241m-\u001b[39m\u001b[38;5;250m \u001b[39mis_mean)\u001b[38;5;132;01m:\u001b[39;00m\u001b[38;5;124m.6f\u001b[39m\u001b[38;5;132;01m}\u001b[39;00m\u001b[38;5;124m\"\u001b[39m)\n\u001b[1;32m      3\u001b[0m \u001b[38;5;28mprint\u001b[39m(\u001b[38;5;124mf\u001b[39m\u001b[38;5;124m\"\u001b[39m\u001b[38;5;124m   AIS std / IS std:    \u001b[39m\u001b[38;5;132;01m{\u001b[39;00mais_std\u001b[38;5;250m \u001b[39m\u001b[38;5;241m/\u001b[39m\u001b[38;5;250m \u001b[39mis_std\u001b[38;5;132;01m:\u001b[39;00m\u001b[38;5;124m.6f\u001b[39m\u001b[38;5;132;01m}\u001b[39;00m\u001b[38;5;124m\"\u001b[39m)\n",
      "\u001b[0;31mNameError\u001b[0m: name 'ais_mean' is not defined"
     ]
    }
   ],
   "source": [
    "print(f\"Difference in means: {abs(ais_mean - is_mean):.6f}\")\n",
    "print(f\"AIS std / IS std:    {ais_std / is_std:.6f}\")\n"
   ]
  },
  {
   "cell_type": "code",
   "execution_count": null,
   "id": "753a9f8b",
   "metadata": {},
   "outputs": [],
   "source": []
  },
  {
   "cell_type": "code",
   "execution_count": null,
   "id": "7ae0388f",
   "metadata": {},
   "outputs": [],
   "source": [
    "\n"
   ]
  },
  {
   "cell_type": "code",
   "execution_count": null,
   "id": "ac9dac48",
   "metadata": {},
   "outputs": [],
   "source": [
    "\n"
   ]
  }
 ],
 "metadata": {
  "kernelspec": {
   "display_name": "base",
   "language": "python",
   "name": "python3"
  },
  "language_info": {
   "codemirror_mode": {
    "name": "ipython",
    "version": 3
   },
   "file_extension": ".py",
   "mimetype": "text/x-python",
   "name": "python",
   "nbconvert_exporter": "python",
   "pygments_lexer": "ipython3",
   "version": "3.10.9"
  }
 },
 "nbformat": 4,
 "nbformat_minor": 5
}
