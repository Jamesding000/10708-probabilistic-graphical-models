{
 "cells": [
  {
   "cell_type": "code",
   "execution_count": 1,
   "id": "828edf2a",
   "metadata": {},
   "outputs": [],
   "source": [
    "from utils import Ising, conditional, log_unnormalized_p\n",
    "from plot_utils import *\n",
    "from tqdm.auto import tqdm"
   ]
  },
  {
   "cell_type": "code",
   "execution_count": 2,
   "id": "b52213d5",
   "metadata": {},
   "outputs": [],
   "source": [
    "def gibbs_sampling(model, state, n_samples):\n",
    "    n = model.dim\n",
    "    model.state = state\n",
    "    \n",
    "    samples = []\n",
    "    states = np.array([[i, j] for i in range(n) for j in range(n)])\n",
    "    for t in range(n_samples):\n",
    "        np.random.shuffle(states)\n",
    "        for i, j in states:\n",
    "            p_Xij = conditional(model.state, i, j, model.Js, model.Jst)\n",
    "            model.state[i][j] = np.random.binomial(1, p_Xij) * 2 - 1  # 0 -> -1, 1 -> 1\n",
    "        samples.append(model.state.copy())\n",
    "\n",
    "    return samples\n"
   ]
  },
  {
   "cell_type": "code",
   "execution_count": 3,
   "id": "c6d80df3",
   "metadata": {},
   "outputs": [],
   "source": [
    "def annealed_importance_sampling(p_0, p_G, betas, n_samples, n_steps, return_all_temps=False):\n",
    "    \"\"\"\n",
    "    Annealed Importance Sampling\n",
    "    \n",
    "    Args:\n",
    "        return_all_temps: If True, return estimates for all temperatures\n",
    "    \"\"\"\n",
    "    assert (len(betas) == n_steps + 1)\n",
    "    \n",
    "    log_Z_estimates = []\n",
    "    log_Z_all_temps = [] if return_all_temps else None\n",
    "    \n",
    "    target_Js = p_G.Js\n",
    "    target_Jst = p_G.Jst\n",
    "    dim = p_G.dim\n",
    "    \n",
    "    # for all x, p_0(x) = exp(0) = 1, log(Z_0) = log(2^(dim^2)) = dim^2 * log(2)\n",
    "    log_Z_0 = dim ** 2 * np.log(2)\n",
    "    \n",
    "    for i in tqdm(range(n_samples)):\n",
    "        sum_log_ratio = log_Z_0\n",
    "        temp_estimates = [log_Z_0] if return_all_temps else None\n",
    "        \n",
    "        for j in range(n_steps):\n",
    "            if j == 0:\n",
    "                # Sample x_1 from p_0\n",
    "                p_0.init_state()\n",
    "                x_j = p_0.state.copy()\n",
    "            else:\n",
    "                # Sample x_{j+1} from p_beta_j given x_j using Gibbs sampling\n",
    "                p_beta_j = Ising(dim, betas[j] * target_Js, betas[j] * target_Jst)\n",
    "                x_j = gibbs_sampling(p_beta_j, x_j, 1)[0]\n",
    "                \n",
    "            # Compute log ratio: log(p̂_{j+1}(x_{j+1}) / p̂_j(x_{j+1}))\n",
    "            log_p_j = log_unnormalized_p(x_j, betas[j] * target_Js, betas[j] * target_Jst)\n",
    "            log_p_j_plus_1 = log_unnormalized_p(x_j, betas[j+1] * target_Js, betas[j+1] * target_Jst)\n",
    "            \n",
    "            sum_log_ratio += (log_p_j_plus_1 - log_p_j)\n",
    "            \n",
    "            if return_all_temps:\n",
    "                temp_estimates.append(sum_log_ratio)\n",
    "            \n",
    "        log_Z_estimates.append(sum_log_ratio)\n",
    "        if return_all_temps:\n",
    "            log_Z_all_temps.append(temp_estimates)\n",
    "    \n",
    "    if return_all_temps:\n",
    "        # Average across samples for each temperature\n",
    "        log_Z_all_temps = np.array(log_Z_all_temps)  # Shape: (n_samples, n_steps+1)\n",
    "        log_Z_means = np.mean(log_Z_all_temps, axis=0)\n",
    "        log_Z_stds = np.std(log_Z_all_temps, axis=0, ddof=1)\n",
    "        return log_Z_means, log_Z_stds\n",
    "    else:\n",
    "        return np.mean(log_Z_estimates), np.std(log_Z_estimates, ddof=1)"
   ]
  },
  {
   "cell_type": "code",
   "execution_count": 5,
   "id": "e5473a03",
   "metadata": {},
   "outputs": [],
   "source": [
    "# def importance_sampling(p_0, p_G, n_samples):\n",
    "#     \"\"\"\n",
    "#     Standard Importance Sampling to estimate log(Z_G)\n",
    "#     \"\"\"\n",
    "#     dim = p_G.dim\n",
    "#     log_Z_0 = dim ** 2 * np.log(2)  # Z_0 = 2^(dim^2)\n",
    "    \n",
    "#     log_weights = []\n",
    "#     for i in tqdm(range(n_samples)):\n",
    "#         p_0.init_state()\n",
    "#         x = p_0.state.copy()\n",
    "#         log_weights.append(log_unnormalized_p(x, p_G.Js, p_G.Jst))\n",
    "    \n",
    "#     # log(Z_G) = log(Z_0 * mean(exp(log_weights)))\n",
    "#     log_weights = np.array(log_weights)\n",
    "#     max_lw = np.max(log_weights)\n",
    "#     weights = np.exp(log_weights - max_lw)\n",
    "    \n",
    "#     mean_weight = np.mean(weights)\n",
    "#     log_Z_G = log_Z_0 + max_lw + np.log(mean_weight)\n",
    "    \n",
    "#     # Standard error of the estimate\n",
    "#     std_weight = np.std(weights, ddof=1) / np.sqrt(n_samples)\n",
    "#     log_Z_G_std = std_weight / mean_weight  # Relative error in log space\n",
    "    \n",
    "#     return log_Z_G, log_Z_G_std"
   ]
  },
  {
   "cell_type": "code",
   "execution_count": 8,
   "id": "97f11873",
   "metadata": {},
   "outputs": [
    {
     "name": "stdout",
     "output_type": "stream",
     "text": [
      "Running AIS with M=1000 samples, K=1000 temperatures...\n"
     ]
    },
    {
     "data": {
      "application/vnd.jupyter.widget-view+json": {
       "model_id": "20921b6fd5854c24a48788746dde882f",
       "version_major": 2,
       "version_minor": 0
      },
      "text/plain": [
       "  0%|          | 0/1000 [00:00<?, ?it/s]"
      ]
     },
     "metadata": {},
     "output_type": "display_data"
    },
    {
     "name": "stdout",
     "output_type": "stream",
     "text": [
      "AIS - Mean: 12.789579, Std: 0.153657\n"
     ]
    }
   ],
   "source": [
    "# sanity check\n",
    "# Annealed Importance Sampling\n",
    "dim = 3\n",
    "\n",
    "target_Js = 0\n",
    "target_Jst = 1\n",
    "\n",
    "K = 1000\n",
    "betas = np.linspace(0, 1, K+1)\n",
    "M_ais = 1000\n",
    "\n",
    "p_0 = Ising(dim, 0, 0)\n",
    "p_G = Ising(dim, target_Js, target_Jst)\n",
    "\n",
    "print(f\"Running AIS with M={M_ais} samples, K={K} temperatures...\")\n",
    "ais_mean, ais_std = annealed_importance_sampling(p_0, p_G, betas, M_ais, K)\n",
    "print(f\"AIS - Mean: {ais_mean:.6f}, Std: {ais_std:.6f}\")"
   ]
  },
  {
   "cell_type": "code",
   "execution_count": null,
   "id": "29e428af",
   "metadata": {},
   "outputs": [
    {
     "name": "stdout",
     "output_type": "stream",
     "text": [
      "\n",
      "Running IS with 500000 samples...\n"
     ]
    },
    {
     "data": {
      "application/vnd.jupyter.widget-view+json": {
       "model_id": "664d75882a394f468d77812ce7b5033e",
       "version_major": 2,
       "version_minor": 0
      },
      "text/plain": [
       "  0%|          | 0/500000 [00:00<?, ?it/s]"
      ]
     },
     "metadata": {},
     "output_type": "display_data"
    },
    {
     "name": "stdout",
     "output_type": "stream",
     "text": [
      "IS  - Mean: 6.251377, Std: 3.462555\n"
     ]
    }
   ],
   "source": [
    "# sanity check\n",
    "# Importance Sampling\n",
    "dim = 3\n",
    "\n",
    "target_Js = 0\n",
    "target_Jst = 1\n",
    "\n",
    "K = 1  # set K = 1 for standard Importance Sampling\n",
    "betas = np.linspace(0, 1, K+1)\n",
    "M_is = 500000\n",
    "\n",
    "p_0 = Ising(dim, 0, 0)\n",
    "p_G = Ising(dim, target_Js, target_Jst)\n",
    "\n",
    "print(f\"\\nRunning IS with {M_is} samples...\")\n",
    "is_mean, is_std = annealed_importance_sampling(p_0, p_G, betas, M_is, K)\n",
    "print(f\"IS  - Mean: {is_mean:.6f}, Std: {is_std:.6f}\")"
   ]
  },
  {
   "cell_type": "code",
   "execution_count": 9,
   "id": "946f6fe5",
   "metadata": {},
   "outputs": [
    {
     "name": "stdout",
     "output_type": "stream",
     "text": [
      "Running AIS with M=1000 samples, K=1000 temperatures...\n"
     ]
    },
    {
     "data": {
      "application/vnd.jupyter.widget-view+json": {
       "model_id": "3aaa7bc73a42490f93effeebba6b9645",
       "version_major": 2,
       "version_minor": 0
      },
      "text/plain": [
       "  0%|          | 0/1000 [00:00<?, ?it/s]"
      ]
     },
     "metadata": {},
     "output_type": "display_data"
    },
    {
     "name": "stdout",
     "output_type": "stream",
     "text": [
      "AIS - Mean: 180.248006, Std: 1.297471\n"
     ]
    }
   ],
   "source": [
    "# Annealed Importance Sampling\n",
    "dim = 10\n",
    "\n",
    "target_Js = 0\n",
    "target_Jst = 1\n",
    "\n",
    "K = 1000\n",
    "betas = np.linspace(0, 1, K+1)\n",
    "M_ais = 1000\n",
    "\n",
    "p_0 = Ising(dim, 0, 0)\n",
    "p_G = Ising(dim, target_Js, target_Jst)\n",
    "\n",
    "print(f\"Running AIS with M={M_ais} samples, K={K} temperatures...\")\n",
    "ais_mean, ais_std = annealed_importance_sampling(p_0, p_G, betas, M_ais, K)\n",
    "print(f\"AIS - Mean: {ais_mean:.6f}, Std: {ais_std:.6f}\")"
   ]
  },
  {
   "cell_type": "code",
   "execution_count": 10,
   "id": "b832118b",
   "metadata": {},
   "outputs": [
    {
     "name": "stdout",
     "output_type": "stream",
     "text": [
      "\n",
      "Running IS with 500000 samples...\n"
     ]
    },
    {
     "data": {
      "application/vnd.jupyter.widget-view+json": {
       "model_id": "411328db08bc44a0bcca78bde3b440d4",
       "version_major": 2,
       "version_minor": 0
      },
      "text/plain": [
       "  0%|          | 0/500000 [00:00<?, ?it/s]"
      ]
     },
     "metadata": {},
     "output_type": "display_data"
    },
    {
     "name": "stdout",
     "output_type": "stream",
     "text": [
      "IS  - Mean: 69.313434, Std: 13.411443\n"
     ]
    }
   ],
   "source": [
    "# Importance Sampling\n",
    "dim = 10\n",
    "\n",
    "target_Js = 0\n",
    "target_Jst = 1\n",
    "\n",
    "K = 1  # set K = 1 for standard Importance Sampling\n",
    "betas = np.linspace(0, 1, K+1)\n",
    "M_is = 500000\n",
    "\n",
    "p_0 = Ising(dim, 0, 0)\n",
    "p_G = Ising(dim, target_Js, target_Jst)\n",
    "\n",
    "print(f\"\\nRunning IS with {M_is} samples...\")\n",
    "is_mean, is_std = annealed_importance_sampling(p_0, p_G, betas, M_is, K)\n",
    "print(f\"IS  - Mean: {is_mean:.6f}, Std: {is_std:.6f}\")"
   ]
  },
  {
   "cell_type": "code",
   "execution_count": 12,
   "id": "d0286a8e",
   "metadata": {},
   "outputs": [
    {
     "name": "stdout",
     "output_type": "stream",
     "text": [
      "Difference in means: 110.934572\n",
      "AIS std / IS std:    0.096744\n"
     ]
    }
   ],
   "source": [
    "print(f\"Difference in means: {abs(ais_mean - is_mean):.6f}\")\n",
    "print(f\"AIS std / IS std:    {ais_std / is_std:.6f}\")"
   ]
  },
  {
   "cell_type": "code",
   "execution_count": null,
   "id": "753a9f8b",
   "metadata": {},
   "outputs": [],
   "source": []
  },
  {
   "cell_type": "code",
   "execution_count": null,
   "id": "7ae0388f",
   "metadata": {},
   "outputs": [],
   "source": [
    "\n"
   ]
  },
  {
   "cell_type": "code",
   "execution_count": null,
   "id": "ac9dac48",
   "metadata": {},
   "outputs": [],
   "source": [
    "\n"
   ]
  }
 ],
 "metadata": {
  "kernelspec": {
   "display_name": "base",
   "language": "python",
   "name": "python3"
  },
  "language_info": {
   "codemirror_mode": {
    "name": "ipython",
    "version": 3
   },
   "file_extension": ".py",
   "mimetype": "text/x-python",
   "name": "python",
   "nbconvert_exporter": "python",
   "pygments_lexer": "ipython3",
   "version": "3.10.9"
  }
 },
 "nbformat": 4,
 "nbformat_minor": 5
}
