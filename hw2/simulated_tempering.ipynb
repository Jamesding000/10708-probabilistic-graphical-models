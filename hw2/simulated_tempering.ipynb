{
 "cells": [
  {
   "cell_type": "code",
   "execution_count": 1,
   "id": "8a84f4f5",
   "metadata": {},
   "outputs": [],
   "source": [
    "from utils import Ising, conditional, log_unnormalized_p\n",
    "from plot_utils import *\n",
    "from tqdm.auto import tqdm"
   ]
  },
  {
   "cell_type": "code",
   "execution_count": 7,
   "id": "6adf92d7",
   "metadata": {},
   "outputs": [],
   "source": [
    "def gibbs_sampling(model, state, n_samples):\n",
    "    n = model.dim\n",
    "    model.state = state\n",
    "    \n",
    "    samples = []\n",
    "    states = np.array([[i, j] for i in range(n) for j in range(n)])\n",
    "    for t in range(n_samples):\n",
    "        np.random.shuffle(states)\n",
    "        for i, j in states:\n",
    "            p_Xij = conditional(model.state, i, j, model.Js, model.Jst)\n",
    "            model.state[i][j] = np.random.binomial(1, p_Xij) * 2 - 1  # 0 -> -1, 1 -> 1\n",
    "        samples.append(model.state.copy())\n",
    "\n",
    "    return samples\n"
   ]
  },
  {
   "cell_type": "code",
   "execution_count": 8,
   "id": "60bdbe50",
   "metadata": {},
   "outputs": [],
   "source": [
    "def annealed_importance_sampling(p_0, p_G, betas, n_samples, n_steps, return_all_temps=False):\n",
    "    \"\"\"\n",
    "    Annealed Importance Sampling\n",
    "    \n",
    "    Args:\n",
    "        return_all_temps: If True, return estimates for all temperatures\n",
    "    \"\"\"\n",
    "    assert (len(betas) == n_steps + 1)\n",
    "    \n",
    "    log_Z_estimates = []\n",
    "    log_Z_all_temps = [] if return_all_temps else None\n",
    "    \n",
    "    target_Js = p_G.Js\n",
    "    target_Jst = p_G.Jst\n",
    "    dim = p_G.dim\n",
    "    \n",
    "    # for all x, p_0(x) = exp(0) = 1, log(Z_0) = log(2^(dim^2)) = dim^2 * log(2)\n",
    "    log_Z_0 = dim ** 2 * np.log(2)\n",
    "    \n",
    "    for i in range(n_samples):\n",
    "        sum_log_ratio = log_Z_0\n",
    "        temp_estimates = [log_Z_0] if return_all_temps else None\n",
    "        \n",
    "        for j in range(n_steps):\n",
    "            if j == 0:\n",
    "                # Sample x_1 from p_0\n",
    "                p_0.init_state()\n",
    "                x_j = p_0.state.copy()\n",
    "            else:\n",
    "                # Sample x_{j+1} from p_beta_j given x_j using Gibbs sampling\n",
    "                p_beta_j = Ising(dim, betas[j] * target_Js, betas[j] * target_Jst)\n",
    "                x_j = gibbs_sampling(p_beta_j, x_j, 1)[0]\n",
    "                \n",
    "            # Compute log ratio: log(p̂_{j+1}(x_{j+1}) / p̂_j(x_{j+1}))\n",
    "            log_p_j = log_unnormalized_p(x_j, betas[j] * target_Js, betas[j] * target_Jst)\n",
    "            log_p_j_plus_1 = log_unnormalized_p(x_j, betas[j+1] * target_Js, betas[j+1] * target_Jst)\n",
    "            \n",
    "            sum_log_ratio += (log_p_j_plus_1 - log_p_j)\n",
    "            \n",
    "            if return_all_temps:\n",
    "                temp_estimates.append(sum_log_ratio)\n",
    "            \n",
    "        log_Z_estimates.append(sum_log_ratio)\n",
    "        if return_all_temps:\n",
    "            log_Z_all_temps.append(temp_estimates)\n",
    "    \n",
    "    if return_all_temps:\n",
    "        # Average across samples for each temperature\n",
    "        log_Z_all_temps = np.array(log_Z_all_temps)  # Shape: (n_samples, n_steps+1)\n",
    "        log_Z_means = np.mean(log_Z_all_temps, axis=0)\n",
    "        log_Z_stds = np.std(log_Z_all_temps, axis=0, ddof=1)\n",
    "        return log_Z_means, log_Z_stds\n",
    "    else:\n",
    "        return np.mean(log_Z_estimates), np.std(log_Z_estimates, ddof=1)"
   ]
  },
  {
   "cell_type": "code",
   "execution_count": 9,
   "id": "0eb9ff72",
   "metadata": {},
   "outputs": [],
   "source": [
    "def simulated_tempering(model, state, temps, log_Z_temps, n_samples):\n",
    "    \"\"\"\n",
    "    Gibbs sampling with tempering\n",
    "    \n",
    "    Args:\n",
    "        model: Ising model with target Js and Jst\n",
    "        state: Initial state\n",
    "        temps: Temperature array T\n",
    "        log_Z_temps: Log partition functions for each temperature (estimated by AIS)\n",
    "        n_samples: Number of iterations\n",
    "    \n",
    "    Returns:\n",
    "        samples: List of states\n",
    "        temp_indices: Temperature index at each iteration\n",
    "        sums: Sum of variable assignments at each iteration\n",
    "    \"\"\"\n",
    "    dim = model.dim\n",
    "    target_Js = model.Js\n",
    "    target_Jst = model.Jst\n",
    "    L = len(temps)\n",
    "    \n",
    "    x = state.copy()\n",
    "    i = 0  # Start at temperature index 0\n",
    "    \n",
    "    samples = []\n",
    "    temp_indices = []\n",
    "    \n",
    "    for _ in tqdm(range(n_samples)):\n",
    "        if np.random.rand() < 0.5:\n",
    "            # Gibbs sampling step\n",
    "            model_i = Ising(dim, temps[i] * target_Js, temps[i] * target_Jst)\n",
    "            x = gibbs_sampling(model_i, x, 1)[0]\n",
    "        else:\n",
    "            # Metropolis-Hastings step\n",
    "            if i == 0:\n",
    "                j = 1\n",
    "            elif i == L - 1:\n",
    "                j = L - 2\n",
    "            else:\n",
    "                j = i + 1 if np.random.rand() < 0.5 else i - 1\n",
    "            \n",
    "            log_p_j = log_unnormalized_p(x, temps[j] * target_Js, temps[j] * target_Jst)\n",
    "            log_p_i = log_unnormalized_p(x, temps[i] * target_Js, temps[i] * target_Jst)\n",
    "            \n",
    "            log_ratio = (log_p_j - log_Z_temps[j]) - (log_p_i - log_Z_temps[i])\n",
    "            \n",
    "            if np.random.rand() < min(1, np.exp(log_ratio)):\n",
    "                i = j\n",
    "        \n",
    "        samples.append(x.copy())\n",
    "        temp_indices.append(i)\n",
    "    \n",
    "    return samples, temp_indices"
   ]
  },
  {
   "cell_type": "code",
   "execution_count": 18,
   "id": "c977342e",
   "metadata": {},
   "outputs": [
    {
     "data": {
      "application/vnd.jupyter.widget-view+json": {
       "model_id": "b4fda920bba940a4b7e68074e06d9078",
       "version_major": 2,
       "version_minor": 0
      },
      "text/plain": [
       "  0%|          | 0/4 [00:00<?, ?it/s]"
      ]
     },
     "metadata": {},
     "output_type": "display_data"
    }
   ],
   "source": [
    "dim = 5\n",
    "Js = 0\n",
    "Jsts = [1.0, 1.2, 1.5, 2.0]\n",
    "temps = np.linspace(0.5, 2.0, 31)\n",
    "n_iterations = 100000\n",
    "K = 50\n",
    "M = 50\n",
    "betas = np.array([0.02 * j for j in range(K + 1)])\n",
    "\n",
    "# Estimate partition functions\n",
    "log_Z_all_temps_dict = {}\n",
    "for Jst in tqdm(Jsts):\n",
    "    log_Z_list = []\n",
    "    for T in temps:\n",
    "        p_0 = Ising(dim, 0, 0)\n",
    "        p_G = Ising(dim, Js * T, Jst * T)\n",
    "        log_Z, _ = annealed_importance_sampling(p_0, p_G, betas, M, K)\n",
    "        log_Z_list.append(log_Z)\n",
    "    log_Z_all_temps_dict[Jst] = np.array(log_Z_list)\n"
   ]
  },
  {
   "cell_type": "code",
   "execution_count": 19,
   "id": "2e9cca12",
   "metadata": {},
   "outputs": [
    {
     "data": {
      "application/vnd.jupyter.widget-view+json": {
       "model_id": "ff44a197783f4bd09debd93cf94cb376",
       "version_major": 2,
       "version_minor": 0
      },
      "text/plain": [
       "  0%|          | 0/4 [00:00<?, ?it/s]"
      ]
     },
     "metadata": {},
     "output_type": "display_data"
    },
    {
     "data": {
      "application/vnd.jupyter.widget-view+json": {
       "model_id": "42ac065d4f8740128cdbf7afbb52640b",
       "version_major": 2,
       "version_minor": 0
      },
      "text/plain": [
       "Gibbs Jst=1.0:   0%|          | 0/100000 [00:00<?, ?it/s]"
      ]
     },
     "metadata": {},
     "output_type": "display_data"
    },
    {
     "data": {
      "application/vnd.jupyter.widget-view+json": {
       "model_id": "1765863dbc784cb4a6aaf6ca9ef9d510",
       "version_major": 2,
       "version_minor": 0
      },
      "text/plain": [
       "  0%|          | 0/100000 [00:00<?, ?it/s]"
      ]
     },
     "metadata": {},
     "output_type": "display_data"
    },
    {
     "data": {
      "application/vnd.jupyter.widget-view+json": {
       "model_id": "96615afd04c541b0818f22c11a309cf3",
       "version_major": 2,
       "version_minor": 0
      },
      "text/plain": [
       "Gibbs Jst=1.2:   0%|          | 0/100000 [00:00<?, ?it/s]"
      ]
     },
     "metadata": {},
     "output_type": "display_data"
    },
    {
     "data": {
      "application/vnd.jupyter.widget-view+json": {
       "model_id": "147d57a65bdc40ac98e993106166385b",
       "version_major": 2,
       "version_minor": 0
      },
      "text/plain": [
       "  0%|          | 0/100000 [00:00<?, ?it/s]"
      ]
     },
     "metadata": {},
     "output_type": "display_data"
    },
    {
     "data": {
      "application/vnd.jupyter.widget-view+json": {
       "model_id": "95102d32e0a34af6b980c540baf621b3",
       "version_major": 2,
       "version_minor": 0
      },
      "text/plain": [
       "Gibbs Jst=1.5:   0%|          | 0/100000 [00:00<?, ?it/s]"
      ]
     },
     "metadata": {},
     "output_type": "display_data"
    },
    {
     "data": {
      "application/vnd.jupyter.widget-view+json": {
       "model_id": "d3bd43db4c7642128dd97bcf4b2c5ff1",
       "version_major": 2,
       "version_minor": 0
      },
      "text/plain": [
       "  0%|          | 0/100000 [00:00<?, ?it/s]"
      ]
     },
     "metadata": {},
     "output_type": "display_data"
    },
    {
     "data": {
      "application/vnd.jupyter.widget-view+json": {
       "model_id": "7f133f032f7b4dc19f92c43ed630a9df",
       "version_major": 2,
       "version_minor": 0
      },
      "text/plain": [
       "Gibbs Jst=2.0:   0%|          | 0/100000 [00:00<?, ?it/s]"
      ]
     },
     "metadata": {},
     "output_type": "display_data"
    },
    {
     "data": {
      "application/vnd.jupyter.widget-view+json": {
       "model_id": "d597a13056f64c79a94be3ceec8c2ba3",
       "version_major": 2,
       "version_minor": 0
      },
      "text/plain": [
       "  0%|          | 0/100000 [00:00<?, ?it/s]"
      ]
     },
     "metadata": {},
     "output_type": "display_data"
    }
   ],
   "source": [
    "output_dir = \"plots\"\n",
    "if not os.path.exists(output_dir):\n",
    "    os.makedirs(output_dir, exist_ok=True)\n",
    "\n",
    "def save_plot(data, ylabel, title, filename):\n",
    "    plt.figure(figsize=(10, 4))\n",
    "    if isinstance(data, (int, float)):\n",
    "        plt.axhline(y=data, linewidth=0.5)\n",
    "        plt.ylim(0, 2.5)\n",
    "    else:\n",
    "        plt.plot(data, linewidth=0.5, alpha=0.7)\n",
    "    plt.xlabel('Iteration')\n",
    "    plt.ylabel(ylabel)\n",
    "    plt.title(title)\n",
    "    plt.tight_layout()\n",
    "    plt.savefig(filename, dpi=150)\n",
    "    plt.close()\n",
    "\n",
    "filenames = []\n",
    "for Jst in tqdm(Jsts):\n",
    "    model = Ising(dim, Js, Jst)\n",
    "    model.init_state()\n",
    "    init_state = model.state.copy()\n",
    "    \n",
    "    # Vanilla Gibbs sampling\n",
    "    x_gibbs = init_state.copy()\n",
    "    gibbs_sums = []\n",
    "    for _ in tqdm(range(n_iterations), desc=f\"Gibbs Jst={Jst}\", leave=False):\n",
    "        x_gibbs = gibbs_sampling(Ising(dim, Js, Jst), x_gibbs, 1)[0]\n",
    "        gibbs_sums.append(np.sum(x_gibbs))\n",
    "    \n",
    "    # Simulated tempering\n",
    "    samples_temp, temp_indices = simulated_tempering(\n",
    "        model, init_state.copy(), temps, log_Z_all_temps_dict[Jst], n_iterations\n",
    "    )\n",
    "    temp_sums = [np.sum(samples_temp[i]) for i in range(len(samples_temp))]\n",
    "    \n",
    "    # Samples at T=1\n",
    "    T1_idx = np.argmin(np.abs(temps - 1.0))  # get the index of temperature 1\n",
    "    sums_at_T1 = [np.sum(samples_temp[i]) for i in range(len(samples_temp)) if temp_indices[i] == T1_idx]\n",
    "    \n",
    "    # Save plots\n",
    "    filenames.append(f'{output_dir}/gibbs_temp_Jst{Jst}.png')\n",
    "    filenames.append(f'{output_dir}/gibbs_sum_Jst{Jst}.png')\n",
    "    filenames.append(f'{output_dir}/tempering_temp_Jst{Jst}.png')\n",
    "    filenames.append(f'{output_dir}/tempering_sum_Jst{Jst}.png')\n",
    "    filenames.append(f'{output_dir}/tempering_T1_Jst{Jst}.png')\n",
    "    \n",
    "    save_plot(1.0, 'Temperature', f'Gibbs Temperature (Jst={Jst})', filenames[-5])\n",
    "    save_plot(gibbs_sums, 'Sum of assignments', f'Gibbs Sum (Jst={Jst})', filenames[-4])\n",
    "    save_plot(temps[temp_indices], 'Temperature', f'Tempering Temperature (Jst={Jst})', filenames[-3])\n",
    "    save_plot(temp_sums, 'Sum of assignments', f'Tempering Sum (Jst={Jst})', filenames[-2])\n",
    "    save_plot(sums_at_T1, 'Sum of assignments', f'Tempering at T=1 (Jst={Jst})', filenames[-1])\n"
   ]
  },
  {
   "cell_type": "code",
   "execution_count": 20,
   "id": "8e1a2b75",
   "metadata": {},
   "outputs": [],
   "source": [
    "merge_images(filenames, len(Jsts), 5, \"simulated_tempering.png\")"
   ]
  },
  {
   "cell_type": "code",
   "execution_count": null,
   "id": "e4f64081",
   "metadata": {},
   "outputs": [],
   "source": []
  }
 ],
 "metadata": {
  "kernelspec": {
   "display_name": "base",
   "language": "python",
   "name": "python3"
  },
  "language_info": {
   "codemirror_mode": {
    "name": "ipython",
    "version": 3
   },
   "file_extension": ".py",
   "mimetype": "text/x-python",
   "name": "python",
   "nbconvert_exporter": "python",
   "pygments_lexer": "ipython3",
   "version": "3.10.9"
  }
 },
 "nbformat": 4,
 "nbformat_minor": 5
}
